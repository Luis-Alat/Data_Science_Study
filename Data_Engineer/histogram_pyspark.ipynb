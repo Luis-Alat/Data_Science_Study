{
 "cells": [
  {
   "cell_type": "code",
   "execution_count": 52,
   "id": "0580fef7-f8d4-4e17-be9f-3558693be6db",
   "metadata": {},
   "outputs": [],
   "source": [
    "from pyspark.sql import SparkSession\n",
    "from pyspark.sql.functions import col\n",
    "\n",
    "from collections import OrderedDict"
   ]
  },
  {
   "cell_type": "code",
   "execution_count": 8,
   "id": "b8515fc5",
   "metadata": {},
   "outputs": [
    {
     "data": {
      "text/html": [
       "\n",
       "            <div>\n",
       "                <p><b>SparkSession - in-memory</b></p>\n",
       "                \n",
       "        <div>\n",
       "            <p><b>SparkContext</b></p>\n",
       "\n",
       "            <p><a href=\"http://192.168.100.16:4040\">Spark UI</a></p>\n",
       "\n",
       "            <dl>\n",
       "              <dt>Version</dt>\n",
       "                <dd><code>v3.4.1</code></dd>\n",
       "              <dt>Master</dt>\n",
       "                <dd><code>local[*]</code></dd>\n",
       "              <dt>AppName</dt>\n",
       "                <dd><code>RatingHistogram</code></dd>\n",
       "            </dl>\n",
       "        </div>\n",
       "        \n",
       "            </div>\n",
       "        "
      ],
      "text/plain": [
       "<pyspark.sql.session.SparkSession at 0x7f1012e35840>"
      ]
     },
     "execution_count": 8,
     "metadata": {},
     "output_type": "execute_result"
    }
   ],
   "source": [
    "spark_context = (SparkSession.\n",
    "        builder.\n",
    "        appName(\"RatingHistogram\").\n",
    "        master(\"local[*]\").\n",
    "        getOrCreate())\n",
    "\n",
    "spark_context"
   ]
  },
  {
   "cell_type": "code",
   "execution_count": 17,
   "id": "2e75020e",
   "metadata": {},
   "outputs": [
    {
     "name": "stdout",
     "output_type": "stream",
     "text": [
      "+---+---+---+---------+\n",
      "|_c0|_c1|_c2|      _c3|\n",
      "+---+---+---+---------+\n",
      "|196|242|  3|881250949|\n",
      "|186|302|  3|891717742|\n",
      "| 22|377|  1|878887116|\n",
      "|244| 51|  2|880606923|\n",
      "|166|346|  1|886397596|\n",
      "+---+---+---+---------+\n",
      "only showing top 5 rows\n",
      "\n"
     ]
    }
   ],
   "source": [
    "file_path = \"data/ml-100k/u.data\"\n",
    "ratings_sdf = spark_context.read.csv(path=file_path, sep=\"\\t\", inferSchema=True)\n",
    "ratings_sdf.show(5)"
   ]
  },
  {
   "cell_type": "code",
   "execution_count": 57,
   "id": "d15f05a3",
   "metadata": {},
   "outputs": [
    {
     "name": "stdout",
     "output_type": "stream",
     "text": [
      "+-------+------------------+------------------+------------------+-----------------+\n",
      "|summary|         unknown_1|         unknown_2|           ratings|        unknown_4|\n",
      "+-------+------------------+------------------+------------------+-----------------+\n",
      "|  count|            100000|            100000|            100000|           100000|\n",
      "|   mean|         462.48475|         425.53013|           3.52986|8.8352885148862E8|\n",
      "| stddev|266.61442012750905|330.79835632558473|1.1256735991443214|5343856.189502848|\n",
      "|    min|                 1|                 1|                 1|        874724710|\n",
      "|    max|               943|              1682|                 5|        893286638|\n",
      "+-------+------------------+------------------+------------------+-----------------+\n",
      "\n"
     ]
    }
   ],
   "source": [
    "ratings_sdf.describe().show()"
   ]
  },
  {
   "cell_type": "code",
   "execution_count": 18,
   "id": "e0fe2e70",
   "metadata": {},
   "outputs": [],
   "source": [
    "ratings_sdf = ratings_sdf.select(\n",
    "                    col(\"_c0\").alias(\"unknown_1\"), \n",
    "                    col(\"_c1\").alias(\"unknown_2\"),\n",
    "                    col(\"_c2\").alias(\"ratings\"),\n",
    "                    col(\"_c3\").alias(\"unknown_4\")\n",
    "                )"
   ]
  },
  {
   "cell_type": "code",
   "execution_count": 19,
   "id": "5ca0a162",
   "metadata": {},
   "outputs": [
    {
     "name": "stdout",
     "output_type": "stream",
     "text": [
      "root\n",
      " |-- unknown_1: integer (nullable = true)\n",
      " |-- unknown_2: integer (nullable = true)\n",
      " |-- ratings: integer (nullable = true)\n",
      " |-- unknown_4: integer (nullable = true)\n",
      "\n"
     ]
    }
   ],
   "source": [
    "ratings_sdf.printSchema()"
   ]
  },
  {
   "cell_type": "code",
   "execution_count": 20,
   "id": "2ee285ea",
   "metadata": {},
   "outputs": [
    {
     "name": "stdout",
     "output_type": "stream",
     "text": [
      "+-------+-----+\n",
      "|ratings|count|\n",
      "+-------+-----+\n",
      "|      1| 6110|\n",
      "|      3|27145|\n",
      "|      5|21201|\n",
      "|      4|34174|\n",
      "|      2|11370|\n",
      "+-------+-----+\n",
      "\n"
     ]
    }
   ],
   "source": [
    "ratings_stars = ratings_sdf.select(\"ratings\")\n",
    "ratings_stars_counted = ratings_stars.groupBy(\"ratings\").count()\n",
    "ratings_stars_counted.show()"
   ]
  },
  {
   "cell_type": "code",
   "execution_count": 49,
   "id": "0b98065f",
   "metadata": {},
   "outputs": [
    {
     "data": {
      "text/plain": [
       "[('ratings', 'int'), ('count', 'bigint')]"
      ]
     },
     "execution_count": 49,
     "metadata": {},
     "output_type": "execute_result"
    }
   ],
   "source": [
    "ratings_stars_counted.dtypes"
   ]
  },
  {
   "cell_type": "code",
   "execution_count": null,
   "id": "ab8f35b4",
   "metadata": {},
   "outputs": [],
   "source": []
  },
  {
   "cell_type": "code",
   "execution_count": null,
   "id": "42cddbb2",
   "metadata": {},
   "outputs": [],
   "source": []
  },
  {
   "cell_type": "code",
   "execution_count": null,
   "id": "5f8689d5",
   "metadata": {},
   "outputs": [],
   "source": []
  },
  {
   "cell_type": "code",
   "execution_count": null,
   "id": "d333d0fe",
   "metadata": {},
   "outputs": [],
   "source": []
  },
  {
   "cell_type": "code",
   "execution_count": null,
   "id": "bf5bc3f3",
   "metadata": {},
   "outputs": [],
   "source": []
  },
  {
   "cell_type": "code",
   "execution_count": null,
   "id": "2cde9a71",
   "metadata": {},
   "outputs": [],
   "source": []
  },
  {
   "cell_type": "code",
   "execution_count": null,
   "id": "3cadd25c",
   "metadata": {},
   "outputs": [],
   "source": []
  },
  {
   "cell_type": "code",
   "execution_count": null,
   "id": "f6c5cc1e",
   "metadata": {},
   "outputs": [],
   "source": []
  },
  {
   "cell_type": "code",
   "execution_count": null,
   "id": "d1ab2854",
   "metadata": {},
   "outputs": [],
   "source": []
  },
  {
   "cell_type": "code",
   "execution_count": null,
   "id": "2e9237c6",
   "metadata": {},
   "outputs": [],
   "source": []
  },
  {
   "cell_type": "code",
   "execution_count": null,
   "id": "d855a129",
   "metadata": {},
   "outputs": [],
   "source": []
  },
  {
   "cell_type": "code",
   "execution_count": null,
   "id": "f82500a3",
   "metadata": {},
   "outputs": [],
   "source": [
    "#spark_context.stop()"
   ]
  }
 ],
 "metadata": {
  "kernelspec": {
   "display_name": "Python 3 (ipykernel)",
   "language": "python",
   "name": "python3"
  },
  "language_info": {
   "codemirror_mode": {
    "name": "ipython",
    "version": 3
   },
   "file_extension": ".py",
   "mimetype": "text/x-python",
   "name": "python",
   "nbconvert_exporter": "python",
   "pygments_lexer": "ipython3",
   "version": "3.10.12"
  }
 },
 "nbformat": 4,
 "nbformat_minor": 5
}
