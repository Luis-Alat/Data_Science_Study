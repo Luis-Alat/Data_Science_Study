{
 "cells": [
  {
   "cell_type": "code",
   "execution_count": 1,
   "id": "0580fef7-f8d4-4e17-be9f-3558693be6db",
   "metadata": {},
   "outputs": [],
   "source": [
    "from pyspark.sql import SparkSession, Row as s_Row\n",
    "from pyspark.sql.functions import col as s_col, round as s_round, lit as s_lit\n",
    "from pyspark.sql.types import StringType\n",
    "\n",
    "import pandas as pd\n",
    "\n",
    "import gc"
   ]
  },
  {
   "cell_type": "markdown",
   "id": "c624e49a",
   "metadata": {},
   "source": [
    "#### Creating spark context"
   ]
  },
  {
   "cell_type": "code",
   "execution_count": 2,
   "id": "b8515fc5",
   "metadata": {},
   "outputs": [
    {
     "name": "stderr",
     "output_type": "stream",
     "text": [
      "23/08/31 00:35:00 WARN Utils: Your hostname, IdeaPad-L340 resolves to a loopback address: 127.0.1.1; using 192.168.100.16 instead (on interface wlp1s0)\n",
      "23/08/31 00:35:00 WARN Utils: Set SPARK_LOCAL_IP if you need to bind to another address\n",
      "Setting default log level to \"WARN\".\n",
      "To adjust logging level use sc.setLogLevel(newLevel). For SparkR, use setLogLevel(newLevel).\n",
      "23/08/31 00:35:01 WARN NativeCodeLoader: Unable to load native-hadoop library for your platform... using builtin-java classes where applicable\n",
      "23/08/31 00:35:05 WARN Utils: Service 'SparkUI' could not bind on port 4040. Attempting port 4041.\n"
     ]
    },
    {
     "data": {
      "text/html": [
       "\n",
       "            <div>\n",
       "                <p><b>SparkSession - in-memory</b></p>\n",
       "                \n",
       "        <div>\n",
       "            <p><b>SparkContext</b></p>\n",
       "\n",
       "            <p><a href=\"http://192.168.100.16:4041\">Spark UI</a></p>\n",
       "\n",
       "            <dl>\n",
       "              <dt>Version</dt>\n",
       "                <dd><code>v3.4.1</code></dd>\n",
       "              <dt>Master</dt>\n",
       "                <dd><code>local[*]</code></dd>\n",
       "              <dt>AppName</dt>\n",
       "                <dd><code>RatingHistogram</code></dd>\n",
       "            </dl>\n",
       "        </div>\n",
       "        \n",
       "            </div>\n",
       "        "
      ],
      "text/plain": [
       "<pyspark.sql.session.SparkSession at 0x7fcb66d0d2d0>"
      ]
     },
     "execution_count": 2,
     "metadata": {},
     "output_type": "execute_result"
    }
   ],
   "source": [
    "spark_context = (SparkSession.\n",
    "        builder.\n",
    "        appName(\"RatingHistogram\").\n",
    "        master(\"local[*]\").\n",
    "        getOrCreate())\n",
    "\n",
    "spark_context"
   ]
  },
  {
   "cell_type": "markdown",
   "id": "7bee3b60",
   "metadata": {},
   "source": [
    "#### Manipulating frames with pyspark"
   ]
  },
  {
   "cell_type": "markdown",
   "id": "573c48a1",
   "metadata": {},
   "source": [
    "##### Reading file and showing content"
   ]
  },
  {
   "cell_type": "code",
   "execution_count": 3,
   "id": "2e75020e",
   "metadata": {},
   "outputs": [
    {
     "name": "stderr",
     "output_type": "stream",
     "text": [
      "                                                                                \r"
     ]
    },
    {
     "name": "stdout",
     "output_type": "stream",
     "text": [
      "+---+---+---+---------+\n",
      "|_c0|_c1|_c2|      _c3|\n",
      "+---+---+---+---------+\n",
      "|196|242|  3|881250949|\n",
      "|186|302|  3|891717742|\n",
      "| 22|377|  1|878887116|\n",
      "|244| 51|  2|880606923|\n",
      "|166|346|  1|886397596|\n",
      "+---+---+---+---------+\n",
      "only showing top 5 rows\n",
      "\n"
     ]
    }
   ],
   "source": [
    "file_path = \"data/ml-100k/u.data\"\n",
    "ratings_sdf = spark_context.read.csv(path=file_path, sep=\"\\t\", inferSchema=True)\n",
    "ratings_sdf.show(5)"
   ]
  },
  {
   "cell_type": "code",
   "execution_count": 4,
   "id": "d15f05a3",
   "metadata": {},
   "outputs": [
    {
     "name": "stderr",
     "output_type": "stream",
     "text": [
      "23/08/31 00:35:17 WARN package: Truncated the string representation of a plan since it was too large. This behavior can be adjusted by setting 'spark.sql.debug.maxToStringFields'.\n"
     ]
    },
    {
     "name": "stdout",
     "output_type": "stream",
     "text": [
      "+-------+------------------+------------------+------------------+-----------------+\n",
      "|summary|               _c0|               _c1|               _c2|              _c3|\n",
      "+-------+------------------+------------------+------------------+-----------------+\n",
      "|  count|            100000|            100000|            100000|           100000|\n",
      "|   mean|         462.48475|         425.53013|           3.52986|8.8352885148862E8|\n",
      "| stddev|266.61442012750905|330.79835632558473|1.1256735991443214|5343856.189502848|\n",
      "|    min|                 1|                 1|                 1|        874724710|\n",
      "|    max|               943|              1682|                 5|        893286638|\n",
      "+-------+------------------+------------------+------------------+-----------------+\n",
      "\n"
     ]
    }
   ],
   "source": [
    "ratings_sdf.describe().show()"
   ]
  },
  {
   "cell_type": "markdown",
   "id": "1e9c5475",
   "metadata": {},
   "source": [
    "##### Renaming columns and showing schema"
   ]
  },
  {
   "cell_type": "code",
   "execution_count": 5,
   "id": "e0fe2e70",
   "metadata": {},
   "outputs": [],
   "source": [
    "ratings_sdf = ratings_sdf.select(\n",
    "                    s_col(\"_c0\").alias(\"unknown_1\"), \n",
    "                    s_col(\"_c1\").alias(\"unknown_2\"),\n",
    "                    s_col(\"_c2\").alias(\"ratings\"),\n",
    "                    s_col(\"_c3\").alias(\"unknown_4\")\n",
    "                )"
   ]
  },
  {
   "cell_type": "code",
   "execution_count": 6,
   "id": "5ca0a162",
   "metadata": {},
   "outputs": [
    {
     "name": "stdout",
     "output_type": "stream",
     "text": [
      "root\n",
      " |-- unknown_1: integer (nullable = true)\n",
      " |-- unknown_2: integer (nullable = true)\n",
      " |-- ratings: integer (nullable = true)\n",
      " |-- unknown_4: integer (nullable = true)\n",
      "\n"
     ]
    }
   ],
   "source": [
    "ratings_sdf.printSchema()"
   ]
  },
  {
   "cell_type": "markdown",
   "id": "48861111",
   "metadata": {},
   "source": [
    "##### Operations over spark dataframes"
   ]
  },
  {
   "cell_type": "code",
   "execution_count": 7,
   "id": "2ee285ea",
   "metadata": {},
   "outputs": [
    {
     "name": "stdout",
     "output_type": "stream",
     "text": [
      "+-------+-----+\n",
      "|ratings|count|\n",
      "+-------+-----+\n",
      "|      1| 6110|\n",
      "|      3|27145|\n",
      "|      5|21201|\n",
      "|      4|34174|\n",
      "|      2|11370|\n",
      "+-------+-----+\n",
      "\n"
     ]
    }
   ],
   "source": [
    "ratings_stars = ratings_sdf.select(\"ratings\")\n",
    "ratings_stars_counted = ratings_stars.groupBy(\"ratings\").count()\n",
    "ratings_stars_counted.show()"
   ]
  },
  {
   "cell_type": "code",
   "execution_count": 8,
   "id": "42cddbb2",
   "metadata": {},
   "outputs": [
    {
     "name": "stdout",
     "output_type": "stream",
     "text": [
      "+-------+-----+------------------+\n",
      "|ratings|count|percentage_ratings|\n",
      "+-------+-----+------------------+\n",
      "|      1| 6110|              6.11|\n",
      "|      2|11370|             11.37|\n",
      "|      3|27145|             27.15|\n",
      "|      4|34174|             34.17|\n",
      "|      5|21201|              21.2|\n",
      "+-------+-----+------------------+\n",
      "\n"
     ]
    }
   ],
   "source": [
    "percentage_ratings = 100 * (ratings_stars_counted[\"count\"] / 100_000)\n",
    "percentage_ratings = s_round(percentage_ratings, 2)\n",
    "ratings_stars_counted = ratings_stars_counted.withColumn(\"percentage_ratings\", percentage_ratings)\n",
    "\n",
    "ratings_stars_counted = ratings_stars_counted.orderBy(\"ratings\")\n",
    "\n",
    "ratings_stars_counted.show()"
   ]
  },
  {
   "cell_type": "markdown",
   "id": "15c1dde3",
   "metadata": {},
   "source": [
    "##### Droping and adding (columns / rows)"
   ]
  },
  {
   "cell_type": "code",
   "execution_count": 9,
   "id": "d333d0fe",
   "metadata": {},
   "outputs": [
    {
     "name": "stdout",
     "output_type": "stream",
     "text": [
      "+-------+------------------+\n",
      "|ratings|percentage_ratings|\n",
      "+-------+------------------+\n",
      "|      1|              6.11|\n",
      "|      2|             11.37|\n",
      "|      3|             27.15|\n",
      "|      4|             34.17|\n",
      "|      5|              21.2|\n",
      "+-------+------------------+\n",
      "\n"
     ]
    }
   ],
   "source": [
    "# Drop to remove columns\n",
    "ratings_stars_percentage = ratings_stars_counted.drop(\"count\")\n",
    "ratings_stars_percentage.show()"
   ]
  },
  {
   "cell_type": "code",
   "execution_count": 10,
   "id": "2cde9a71",
   "metadata": {},
   "outputs": [
    {
     "data": {
      "text/plain": [
       "DataFrame[stars: int, percentage_ratings: double]"
      ]
     },
     "execution_count": 10,
     "metadata": {},
     "output_type": "execute_result"
    }
   ],
   "source": [
    "# WithColumnRenamed to add a new column\n",
    "ratings_stars_percentage = ratings_stars_percentage.withColumnRenamed(\"ratings\", \"stars\")\n",
    "ratings_stars_percentage"
   ]
  },
  {
   "cell_type": "code",
   "execution_count": 11,
   "id": "c1885cba",
   "metadata": {},
   "outputs": [
    {
     "name": "stderr",
     "output_type": "stream",
     "text": [
      "                                                                                \r"
     ]
    },
    {
     "name": "stdout",
     "output_type": "stream",
     "text": [
      "+-----+------------------+\n",
      "|stars|percentage_ratings|\n",
      "+-----+------------------+\n",
      "|    1|              6.11|\n",
      "|    2|             11.37|\n",
      "|    3|             27.15|\n",
      "|    4|             34.17|\n",
      "|    5|              21.2|\n",
      "|    6|               0.0|\n",
      "|    7|               0.0|\n",
      "+-----+------------------+\n",
      "\n"
     ]
    }
   ],
   "source": [
    "# Union to concat or add new rows\n",
    "new_rows = [[6, 0],\n",
    "            [7, 0]]\n",
    "columns = ratings_stars_percentage.columns\n",
    "\n",
    "new_row = spark_context.createDataFrame(new_rows, columns)\n",
    "\n",
    "ratings_stars_percentage = ratings_stars_percentage.union(new_row)\n",
    "ratings_stars_percentage.show()"
   ]
  },
  {
   "cell_type": "code",
   "execution_count": 12,
   "id": "f6c5cc1e",
   "metadata": {},
   "outputs": [
    {
     "name": "stdout",
     "output_type": "stream",
     "text": [
      "+-----+------------------+\n",
      "|stars|percentage_ratings|\n",
      "+-----+------------------+\n",
      "|    1|              6.11|\n",
      "|    2|             11.37|\n",
      "|    3|             27.15|\n",
      "|    4|             34.17|\n",
      "|    5|              21.2|\n",
      "+-----+------------------+\n",
      "\n"
     ]
    }
   ],
   "source": [
    "# Filter or Where to remove rows\n",
    "ratings_stars_percentage = ratings_stars_percentage.filter(ratings_stars_percentage[\"stars\"] < 6)\n",
    "ratings_stars_percentage.show()"
   ]
  },
  {
   "cell_type": "code",
   "execution_count": 13,
   "id": "f6357514",
   "metadata": {},
   "outputs": [
    {
     "name": "stdout",
     "output_type": "stream",
     "text": [
      "+-----+------------------+\n",
      "|stars|percentage_ratings|\n",
      "+-----+------------------+\n",
      "|    1|              6.11|\n",
      "|    2|             11.37|\n",
      "|    3|             27.15|\n",
      "|    4|             34.17|\n",
      "|    5|              21.2|\n",
      "+-----+------------------+\n",
      "\n"
     ]
    }
   ],
   "source": [
    "# Filter by using another sintax\n",
    "ratings_stars_percentage = ratings_stars_percentage.filter(\"stars < 6\")\n",
    "ratings_stars_percentage.show()"
   ]
  },
  {
   "cell_type": "code",
   "execution_count": 14,
   "id": "64dfa404",
   "metadata": {},
   "outputs": [
    {
     "name": "stdout",
     "output_type": "stream",
     "text": [
      "+-----+------------------+\n",
      "|stars|percentage_ratings|\n",
      "+-----+------------------+\n",
      "|    2|             11.37|\n",
      "|    3|             27.15|\n",
      "|    4|             34.17|\n",
      "|    5|              21.2|\n",
      "+-----+------------------+\n",
      "\n"
     ]
    }
   ],
   "source": [
    "# Filter using different operations\n",
    "mask_gt = (ratings_stars_percentage[\"percentage_ratings\"] > 10)\n",
    "mask_lt = (ratings_stars_percentage[\"percentage_ratings\"] < 40)\n",
    "\n",
    "ratings_stars_percentage.filter(mask_gt & mask_lt).show()"
   ]
  },
  {
   "cell_type": "markdown",
   "id": "362cabeb",
   "metadata": {},
   "source": [
    "##### Null values"
   ]
  },
  {
   "cell_type": "code",
   "execution_count": 15,
   "id": "2e9237c6",
   "metadata": {},
   "outputs": [
    {
     "name": "stdout",
     "output_type": "stream",
     "text": [
      "+-----+------------------+-----------+\n",
      "|stars|percentage_ratings|Null_column|\n",
      "+-----+------------------+-----------+\n",
      "|    1|              6.11|       null|\n",
      "|    2|             11.37|       null|\n",
      "|    3|             27.15|       null|\n",
      "|    4|             34.17|       null|\n",
      "|    5|              21.2|       null|\n",
      "+-----+------------------+-----------+\n",
      "\n"
     ]
    }
   ],
   "source": [
    "# Adding an empty colum\n",
    "ratings_stars_percentage = ratings_stars_percentage.withColumn(\n",
    "                                \"Null_column\",\n",
    "                                s_lit(None).cast(StringType())\n",
    ")\n",
    "\n",
    "ratings_stars_percentage.show()"
   ]
  },
  {
   "cell_type": "code",
   "execution_count": 16,
   "id": "d855a129",
   "metadata": {},
   "outputs": [
    {
     "name": "stdout",
     "output_type": "stream",
     "text": [
      "+-----+------------------+-----------+\n",
      "|stars|percentage_ratings|Null_column|\n",
      "+-----+------------------+-----------+\n",
      "|    1|              6.11|       null|\n",
      "|    2|             11.37|       null|\n",
      "|    3|             27.15|       null|\n",
      "|    4|             34.17|       null|\n",
      "|    5|              21.2|       null|\n",
      "|    0|              null|       null|\n",
      "| null|               0.0|          0|\n",
      "+-----+------------------+-----------+\n",
      "\n"
     ]
    }
   ],
   "source": [
    "# Creating empty rows\n",
    "new_row_1 = s_Row(stars=0, percentage_ratings=None, Null_column=None)\n",
    "new_row_2 = s_Row(stars=None, percentage_ratings=0, Null_column=0)\n",
    "new_rows = [new_row_1, new_row_2]\n",
    "\n",
    "# Merging frames\n",
    "semi_empty_sdf = spark_context.createDataFrame(new_rows, [\"stars\",\"percentage_ratings\",\"Null_column\"])\n",
    "ratings_stars_percentage = ratings_stars_percentage.union(semi_empty_sdf)\n",
    "ratings_stars_percentage.show()"
   ]
  },
  {
   "cell_type": "code",
   "execution_count": 17,
   "id": "02a3c476",
   "metadata": {},
   "outputs": [
    {
     "name": "stdout",
     "output_type": "stream",
     "text": [
      "+-----+------------------+-----------+\n",
      "|stars|percentage_ratings|Null_column|\n",
      "+-----+------------------+-----------+\n",
      "+-----+------------------+-----------+\n",
      "\n"
     ]
    }
   ],
   "source": [
    "# Drop columns and rows with values\n",
    "ratings_stars_percentage.na.drop().show()"
   ]
  },
  {
   "cell_type": "code",
   "execution_count": 18,
   "id": "0bcf0986",
   "metadata": {},
   "outputs": [
    {
     "name": "stdout",
     "output_type": "stream",
     "text": [
      "+-----+------------------+-----------+\n",
      "|stars|percentage_ratings|Null_column|\n",
      "+-----+------------------+-----------+\n",
      "|    1|              6.11|       null|\n",
      "|    2|             11.37|       null|\n",
      "|    3|             27.15|       null|\n",
      "|    4|             34.17|       null|\n",
      "|    5|              21.2|       null|\n",
      "| null|               0.0|          0|\n",
      "+-----+------------------+-----------+\n",
      "\n"
     ]
    }
   ],
   "source": [
    "# Drop using all or any (default any) and threshhold as a \n",
    "# metric of tolerance againts null values\n",
    "ratings_stars_percentage.na.drop(how=\"any\", thresh=2).show()"
   ]
  },
  {
   "cell_type": "code",
   "execution_count": 19,
   "id": "61851492",
   "metadata": {},
   "outputs": [
    {
     "name": "stdout",
     "output_type": "stream",
     "text": [
      "+-----+------------------+-----------+\n",
      "|stars|percentage_ratings|Null_column|\n",
      "+-----+------------------+-----------+\n",
      "|    1|              6.11|       null|\n",
      "|    2|             11.37|       null|\n",
      "|    3|             27.15|       null|\n",
      "|    4|             34.17|       null|\n",
      "|    5|              21.2|       null|\n",
      "|    0|              null|       null|\n",
      "+-----+------------------+-----------+\n",
      "\n"
     ]
    }
   ],
   "source": [
    "# Drop taking into account only specific columns and those row that are no NULL\n",
    "ratings_stars_percentage.na.drop(how=\"any\", subset=[\"stars\"]).show()"
   ]
  },
  {
   "cell_type": "code",
   "execution_count": 20,
   "id": "661271e8",
   "metadata": {},
   "outputs": [
    {
     "name": "stdout",
     "output_type": "stream",
     "text": [
      "+-----+------------------+-----------+\n",
      "|stars|percentage_ratings|Null_column|\n",
      "+-----+------------------+-----------+\n",
      "|    1|              6.11|empty_value|\n",
      "|    2|             11.37|empty_value|\n",
      "|    3|             27.15|empty_value|\n",
      "|    4|             34.17|empty_value|\n",
      "|    5|              21.2|empty_value|\n",
      "|    0|              null|empty_value|\n",
      "| null|               0.0|          0|\n",
      "+-----+------------------+-----------+\n",
      "\n"
     ]
    },
    {
     "name": "stderr",
     "output_type": "stream",
     "text": [
      "                                                                                \r"
     ]
    }
   ],
   "source": [
    "# filling null values across the dataframe\n",
    "ratings_stars_percentage.na.fill(\"empty_value\").show()"
   ]
  },
  {
   "cell_type": "code",
   "execution_count": 21,
   "id": "31f4b064",
   "metadata": {},
   "outputs": [
    {
     "name": "stdout",
     "output_type": "stream",
     "text": [
      "+-----+------------------+-----------+\n",
      "|stars|percentage_ratings|Null_column|\n",
      "+-----+------------------+-----------+\n",
      "|    1|              6.11|       null|\n",
      "|    2|             11.37|       null|\n",
      "|    3|             27.15|       null|\n",
      "|    4|             34.17|       null|\n",
      "|    5|              21.2|       null|\n",
      "|    0|              null|       null|\n",
      "| null|               0.0|          0|\n",
      "+-----+------------------+-----------+\n",
      "\n"
     ]
    }
   ],
   "source": [
    "# filling null values only in specific columns. It'll only work if the datatype\n",
    "# is the correct\n",
    "ratings_stars_percentage.na.fill({\"stars\":\"empty_value\", \"percentage_ratings\":\"empty_value\"}).show()"
   ]
  },
  {
   "cell_type": "markdown",
   "id": "6743fbbc",
   "metadata": {},
   "source": [
    "##### GroupBy"
   ]
  },
  {
   "cell_type": "code",
   "execution_count": 22,
   "id": "025cf72c",
   "metadata": {},
   "outputs": [
    {
     "data": {
      "text/html": [
       "<div>\n",
       "<style scoped>\n",
       "    .dataframe tbody tr th:only-of-type {\n",
       "        vertical-align: middle;\n",
       "    }\n",
       "\n",
       "    .dataframe tbody tr th {\n",
       "        vertical-align: top;\n",
       "    }\n",
       "\n",
       "    .dataframe thead th {\n",
       "        text-align: right;\n",
       "    }\n",
       "</style>\n",
       "<table border=\"1\" class=\"dataframe\">\n",
       "  <thead>\n",
       "    <tr style=\"text-align: right;\">\n",
       "      <th></th>\n",
       "      <th>Row ID</th>\n",
       "      <th>Order ID</th>\n",
       "      <th>Order Date</th>\n",
       "      <th>Ship Date</th>\n",
       "      <th>Ship Mode</th>\n",
       "      <th>Customer ID</th>\n",
       "      <th>Customer Name</th>\n",
       "      <th>Segment</th>\n",
       "      <th>Country</th>\n",
       "      <th>City</th>\n",
       "      <th>...</th>\n",
       "      <th>Postal Code</th>\n",
       "      <th>Region</th>\n",
       "      <th>Product ID</th>\n",
       "      <th>Category</th>\n",
       "      <th>Sub-Category</th>\n",
       "      <th>Product Name</th>\n",
       "      <th>Sales</th>\n",
       "      <th>Quantity</th>\n",
       "      <th>Discount</th>\n",
       "      <th>Profit</th>\n",
       "    </tr>\n",
       "  </thead>\n",
       "  <tbody>\n",
       "    <tr>\n",
       "      <th>0</th>\n",
       "      <td>1</td>\n",
       "      <td>CA-2016-152156</td>\n",
       "      <td>2016-11-08</td>\n",
       "      <td>2016-11-11</td>\n",
       "      <td>Second Class</td>\n",
       "      <td>CG-12520</td>\n",
       "      <td>Claire Gute</td>\n",
       "      <td>Consumer</td>\n",
       "      <td>United States</td>\n",
       "      <td>Henderson</td>\n",
       "      <td>...</td>\n",
       "      <td>42420</td>\n",
       "      <td>South</td>\n",
       "      <td>FUR-BO-10001798</td>\n",
       "      <td>Furniture</td>\n",
       "      <td>Bookcases</td>\n",
       "      <td>Bush Somerset Collection Bookcase</td>\n",
       "      <td>261.96</td>\n",
       "      <td>2</td>\n",
       "      <td>0.0</td>\n",
       "      <td>41.9136</td>\n",
       "    </tr>\n",
       "    <tr>\n",
       "      <th>1</th>\n",
       "      <td>2</td>\n",
       "      <td>CA-2016-152156</td>\n",
       "      <td>2016-11-08</td>\n",
       "      <td>2016-11-11</td>\n",
       "      <td>Second Class</td>\n",
       "      <td>CG-12520</td>\n",
       "      <td>Claire Gute</td>\n",
       "      <td>Consumer</td>\n",
       "      <td>United States</td>\n",
       "      <td>Henderson</td>\n",
       "      <td>...</td>\n",
       "      <td>42420</td>\n",
       "      <td>South</td>\n",
       "      <td>FUR-CH-10000454</td>\n",
       "      <td>Furniture</td>\n",
       "      <td>Chairs</td>\n",
       "      <td>Hon Deluxe Fabric Upholstered Stacking Chairs,...</td>\n",
       "      <td>731.94</td>\n",
       "      <td>3</td>\n",
       "      <td>0.0</td>\n",
       "      <td>219.5820</td>\n",
       "    </tr>\n",
       "  </tbody>\n",
       "</table>\n",
       "<p>2 rows × 21 columns</p>\n",
       "</div>"
      ],
      "text/plain": [
       "   Row ID        Order ID Order Date  Ship Date     Ship Mode Customer ID  \\\n",
       "0       1  CA-2016-152156 2016-11-08 2016-11-11  Second Class    CG-12520   \n",
       "1       2  CA-2016-152156 2016-11-08 2016-11-11  Second Class    CG-12520   \n",
       "\n",
       "  Customer Name   Segment        Country       City  ... Postal Code  Region  \\\n",
       "0   Claire Gute  Consumer  United States  Henderson  ...       42420   South   \n",
       "1   Claire Gute  Consumer  United States  Henderson  ...       42420   South   \n",
       "\n",
       "        Product ID   Category Sub-Category  \\\n",
       "0  FUR-BO-10001798  Furniture    Bookcases   \n",
       "1  FUR-CH-10000454  Furniture       Chairs   \n",
       "\n",
       "                                        Product Name   Sales  Quantity  \\\n",
       "0                  Bush Somerset Collection Bookcase  261.96         2   \n",
       "1  Hon Deluxe Fabric Upholstered Stacking Chairs,...  731.94         3   \n",
       "\n",
       "   Discount    Profit  \n",
       "0       0.0   41.9136  \n",
       "1       0.0  219.5820  \n",
       "\n",
       "[2 rows x 21 columns]"
      ]
     },
     "execution_count": 22,
     "metadata": {},
     "output_type": "execute_result"
    }
   ],
   "source": [
    "# Loading toy dataset\n",
    "superstore_df = pd.read_excel(\"data/superstore.xls\")\n",
    "superstore_df.head(2)"
   ]
  },
  {
   "cell_type": "code",
   "execution_count": 23,
   "id": "bd2193ae",
   "metadata": {},
   "outputs": [
    {
     "name": "stderr",
     "output_type": "stream",
     "text": [
      "/home/lromero/mambaforge/envs/DataScience/lib/python3.10/site-packages/pyspark/sql/pandas/conversion.py:479: FutureWarning: is_datetime64tz_dtype is deprecated and will be removed in a future version. Check `isinstance(dtype, pd.DatetimeTZDtype)` instead.\n",
      "  if should_localize and is_datetime64tz_dtype(s.dtype) and s.dt.tz is not None:\n",
      "[Stage 163:>                                                        (0 + 8) / 8]\r"
     ]
    },
    {
     "name": "stdout",
     "output_type": "stream",
     "text": [
      "+-------+------------------+--------------+--------------+-----------+------------------+-----------+-------------+--------+-------+------------------+-------+---------------+----------+------------+--------------------+-------------------+------------------+-------------------+------------------+\n",
      "|summary|            Row ID|      Order ID|     Ship Mode|Customer ID|     Customer Name|    Segment|      Country|    City|  State|       Postal Code| Region|     Product ID|  Category|Sub-Category|        Product Name|              Sales|          Quantity|           Discount|            Profit|\n",
      "+-------+------------------+--------------+--------------+-----------+------------------+-----------+-------------+--------+-------+------------------+-------+---------------+----------+------------+--------------------+-------------------+------------------+-------------------+------------------+\n",
      "|  count|              9994|          9994|          9994|       9994|              9994|       9994|         9994|    9994|   9994|              9994|   9994|           9994|      9994|        9994|                9994|               9994|              9994|               9994|              9994|\n",
      "|   mean|            4997.5|          null|          null|       null|              null|       null|         null|    null|   null|  55190.3794276566|   null|           null|      null|        null|                null| 229.85800083049833| 3.789573744246548|0.15620272163297894| 28.65689630778467|\n",
      "| stddev|2885.1636290974325|          null|          null|       null|              null|       null|         null|    null|   null|32063.693350364472|   null|           null|      null|        null|                null|  623.2451005086809|2.2251096911414003|0.20645196782571615|234.26010769095728|\n",
      "|    min|                 1|CA-2014-100006|   First Class|   AA-10315|     Aaron Bergman|   Consumer|United States|Aberdeen|Alabama|              1040|Central|FUR-BO-10000112| Furniture| Accessories|\"While you Were O...|0.44399999999999995|                 1|                0.0|-6599.978000000001|\n",
      "|    max|              9994|US-2017-169551|Standard Class|   ZD-21925|Zuschuss Donatelli|Home Office|United States|    Yuma|Wyoming|             99301|   West|TEC-PH-10004977|Technology|      Tables|netTALK DUO VoIP ...|           22638.48|                14|                0.8| 8399.975999999999|\n",
      "+-------+------------------+--------------+--------------+-----------+------------------+-----------+-------------+--------+-------+------------------+-------+---------------+----------+------------+--------------------+-------------------+------------------+-------------------+------------------+\n",
      "\n"
     ]
    },
    {
     "name": "stderr",
     "output_type": "stream",
     "text": [
      "                                                                                \r"
     ]
    }
   ],
   "source": [
    "# Transforming into a pyspark dataframe\n",
    "superstore_sdf = spark_context.createDataFrame(superstore_df)\n",
    "superstore_sdf.describe().show()"
   ]
  },
  {
   "cell_type": "code",
   "execution_count": 24,
   "id": "820353a7",
   "metadata": {},
   "outputs": [
    {
     "name": "stderr",
     "output_type": "stream",
     "text": [
      "[Stage 166:==========================================>              (6 + 2) / 8]\r"
     ]
    },
    {
     "name": "stdout",
     "output_type": "stream",
     "text": [
      "+--------------------+------------+\n",
      "|       Customer Name|total_profit|\n",
      "+--------------------+------------+\n",
      "|        Tamara Chand|     8981.32|\n",
      "|        Raymond Buch|      6976.1|\n",
      "|        Sanjit Chand|     5757.41|\n",
      "|        Hunter Lopez|     5622.43|\n",
      "|       Adrian Barton|     5444.81|\n",
      "|        Tom Ashbrook|     4703.79|\n",
      "|Christopher Martinez|     3899.89|\n",
      "|       Keith Dawkins|     3038.63|\n",
      "|         Andy Reiter|     2884.62|\n",
      "|       Daniel Raglin|     2869.08|\n",
      "+--------------------+------------+\n",
      "only showing top 10 rows\n",
      "\n"
     ]
    },
    {
     "name": "stderr",
     "output_type": "stream",
     "text": [
      "                                                                                \r"
     ]
    }
   ],
   "source": [
    "# Using directly a method to get the most profitable customers\n",
    "most_profitable_customers_sdf = (\n",
    "                                    superstore_sdf.select(\"Customer Name\", \"Profit\").\n",
    "                                    groupBy(\"Customer Name\").\n",
    "                                    sum()\n",
    "                                )\n",
    "\n",
    "most_profitable_customers_sdf = most_profitable_customers_sdf.select(\n",
    "                                        \"Customer Name\",\n",
    "                                        s_round(\"sum(Profit)\", 2).alias(\"total_profit\")\n",
    "                                    )\n",
    "\n",
    "most_profitable_customers_sdf\n",
    "most_profitable_customers_sdf.orderBy(\"total_profit\", ascending = False).show(10)"
   ]
  },
  {
   "cell_type": "code",
   "execution_count": 25,
   "id": "65332d52",
   "metadata": {},
   "outputs": [
    {
     "name": "stderr",
     "output_type": "stream",
     "text": [
      "[Stage 169:=======>                                                 (1 + 7) / 8]\r"
     ]
    },
    {
     "name": "stdout",
     "output_type": "stream",
     "text": [
      "+-------------------+----------------------+\n",
      "|      Customer Name|total_products_brought|\n",
      "+-------------------+----------------------+\n",
      "|   Jonathan Doherty|                   150|\n",
      "|      William Brown|                   146|\n",
      "|           John Lee|                   143|\n",
      "|         Paul Prost|                   138|\n",
      "|  Steven Cartwright|                   133|\n",
      "|         Emily Phan|                   124|\n",
      "|Chloris Kastensmidt|                   122|\n",
      "|  Cassandra Brandow|                   122|\n",
      "|       Edward Hooks|                   120|\n",
      "|       Matt Abelman|                   117|\n",
      "+-------------------+----------------------+\n",
      "only showing top 10 rows\n",
      "\n"
     ]
    },
    {
     "name": "stderr",
     "output_type": "stream",
     "text": [
      "                                                                                \r"
     ]
    }
   ],
   "source": [
    "# Using agg to get the most active customers (number of products bought)\n",
    "most_active_customers_sdf = (\n",
    "                                superstore_sdf.select(\"Customer Name\", \"Quantity\").\n",
    "                                groupBy(\"Customer Name\").\n",
    "                                agg({\"Quantity\":\"sum\"})\n",
    "                            )\n",
    "\n",
    "most_active_customers_sdf = most_active_customers_sdf.select(\n",
    "                                        \"Customer Name\",\n",
    "                                        s_col(\"sum(Quantity)\").alias(\"total_products_brought\")\n",
    "                                    )\n",
    "\n",
    "most_active_customers_sdf\n",
    "most_active_customers_sdf.orderBy(\"total_products_brought\", ascending = False).show(10)\n"
   ]
  },
  {
   "cell_type": "code",
   "execution_count": 27,
   "id": "f82500a3",
   "metadata": {},
   "outputs": [],
   "source": [
    "spark_context.stop()"
   ]
  },
  {
   "cell_type": "code",
   "execution_count": null,
   "id": "88c06320",
   "metadata": {},
   "outputs": [],
   "source": []
  }
 ],
 "metadata": {
  "kernelspec": {
   "display_name": "Python 3 (ipykernel)",
   "language": "python",
   "name": "python3"
  },
  "language_info": {
   "codemirror_mode": {
    "name": "ipython",
    "version": 3
   },
   "file_extension": ".py",
   "mimetype": "text/x-python",
   "name": "python",
   "nbconvert_exporter": "python",
   "pygments_lexer": "ipython3",
   "version": "3.10.12"
  }
 },
 "nbformat": 4,
 "nbformat_minor": 5
}
