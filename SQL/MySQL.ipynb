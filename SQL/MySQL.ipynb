{
 "cells": [
  {
   "cell_type": "markdown",
   "id": "425f7445-884b-490b-a88d-9c21a13da83b",
   "metadata": {},
   "source": [
    "## DDL: Data Definition Language"
   ]
  },
  {
   "cell_type": "markdown",
   "id": "74d967c8-a1e3-4e13-958a-d53ff5a42e51",
   "metadata": {},
   "source": [
    "### Create"
   ]
  },
  {
   "cell_type": "markdown",
   "id": "63011324-a67e-453a-a8f4-629dc39c75ef",
   "metadata": {},
   "source": [
    "```SQL\n",
    "CREATE DATABASE <database_name>;\n",
    "```"
   ]
  },
  {
   "cell_type": "markdown",
   "id": "a23640b8-a93d-4103-aaab-6fe7e1d79f70",
   "metadata": {},
   "source": [
    "```SQL\n",
    "CREATE TABLE <table_name> (\n",
    "\n",
    "        <column_name> <data_type> <constraints>,\n",
    "        <column_name> <data_type> <constraints>,\n",
    "        <column_name> <data_type> <constraints>,\n",
    "        <...........> <.........> <...........>\n",
    "    \n",
    ")\n",
    "```"
   ]
  },
  {
   "cell_type": "markdown",
   "id": "d904f739-0528-438e-a0aa-0bbdcf6b84a2",
   "metadata": {},
   "source": [
    "### Alter"
   ]
  },
  {
   "cell_type": "markdown",
   "id": "3dc73d13-7e40-4d10-861c-09875d608e60",
   "metadata": {},
   "source": [
    "#### Alter table"
   ]
  },
  {
   "cell_type": "markdown",
   "id": "fe62bf4c-ba2c-448a-8dbb-a907c05df144",
   "metadata": {},
   "source": [
    "```SQL\n",
    "ALTER TABLE <old_table_name> RENAME TO <new_table_name>;\n",
    "```"
   ]
  },
  {
   "cell_type": "markdown",
   "id": "a3e534e6-128e-4cad-889b-a880e7050295",
   "metadata": {},
   "source": [
    "```SQL\n",
    "ALTER TABLE <table_name> ADD COLUMN <new_column_name> <datatype>;\n",
    "```"
   ]
  },
  {
   "cell_type": "markdown",
   "id": "6f740889-217f-42fc-bb23-7519df57682c",
   "metadata": {},
   "source": [
    "```SQL\n",
    "ALTER TABLE <table_name> DROP COLUMN <column_name>;\n",
    "```"
   ]
  },
  {
   "cell_type": "markdown",
   "id": "25546946-28ab-497a-ae76-4b294256ebdf",
   "metadata": {},
   "source": [
    "#### Alter column"
   ]
  },
  {
   "cell_type": "markdown",
   "id": "2d95c64e-5379-4fb5-ad3f-2ed5813aceb1",
   "metadata": {},
   "source": [
    "```SQL\n",
    "ALTER TABLE <table_name> RENAME COLUMN <old_column_name> TO <new_column_name>;\n",
    "```"
   ]
  },
  {
   "cell_type": "markdown",
   "id": "14ffc014-fb90-4d95-90c1-3e0f339a595d",
   "metadata": {},
   "source": [
    "```SQL\n",
    "ALTER TABLE <table_name> MODIFY <column_name_to_modify> <new_datatype>;\n",
    "```"
   ]
  },
  {
   "cell_type": "markdown",
   "id": "359c5eab-a2b3-4f36-8dd5-2d667874c5d3",
   "metadata": {},
   "source": [
    "```SQL\n",
    "ALTER TABLE <table_name> ADD CONSTRAINT <constraint_name>\n",
    "    FOREIGN KEY (<column_name>)\n",
    "    REFERENCES <foreign_table_name> (<foreign_column_name>)\n",
    "```"
   ]
  },
  {
   "cell_type": "markdown",
   "id": "9792cf1a-9ce4-44e7-952f-ac502ee8286d",
   "metadata": {},
   "source": [
    "### Truncate"
   ]
  },
  {
   "cell_type": "markdown",
   "id": "1cee4c47-ac50-4f3b-85ff-4a6b73b1c604",
   "metadata": {},
   "source": [
    "```SQL\n",
    "TRUNCATE TABLE <table_Name>;\n",
    "```"
   ]
  },
  {
   "cell_type": "markdown",
   "id": "66039e82-d8bf-44ef-b7e7-7d364829d6ab",
   "metadata": {},
   "source": [
    "### Drop"
   ]
  },
  {
   "cell_type": "markdown",
   "id": "f58f6955-b840-4b27-82bc-f49c936b94fd",
   "metadata": {},
   "source": [
    "```SQL\n",
    "DROP TABLE <table_name>;\n",
    "```"
   ]
  },
  {
   "cell_type": "markdown",
   "id": "7221a3ee-fe06-48cd-80ba-c30322573221",
   "metadata": {},
   "source": [
    "```SQL\n",
    "DROP DATABASE <database_name>\n",
    "```"
   ]
  },
  {
   "cell_type": "markdown",
   "id": "5983363d-668a-46db-864a-d195bdc870f6",
   "metadata": {},
   "source": [
    "## Data Manipulation Language (DML)"
   ]
  },
  {
   "cell_type": "markdown",
   "id": "7b700cec-ef59-4d51-956a-95e902cdd403",
   "metadata": {},
   "source": [
    "### Update"
   ]
  },
  {
   "cell_type": "markdown",
   "id": "78ea66c3-7c6b-4ea9-b9e8-31f7c8acc237",
   "metadata": {},
   "source": [
    "```SQL\n",
    "UPDATE <table_name> SET <colum_name> = <value>, <column_name> = <value>, ... [ WHERE ... ]\n",
    "```"
   ]
  },
  {
   "cell_type": "markdown",
   "id": "47c52992-f5f9-43e4-833c-6e83ca6d8532",
   "metadata": {},
   "source": [
    "### Delete"
   ]
  },
  {
   "cell_type": "markdown",
   "id": "0aab327d-a70f-4cf7-be34-d033b9b2fb8e",
   "metadata": {},
   "source": [
    "```SQL\n",
    "DELETE FROM <table_name> [ WHERE ... ]\n",
    "```"
   ]
  },
  {
   "cell_type": "markdown",
   "id": "c6894f7b-dc2b-465d-b693-cb5ba0c62f9f",
   "metadata": {},
   "source": [
    "### Insert"
   ]
  },
  {
   "cell_type": "markdown",
   "id": "9cb18292-00a3-44fc-a61c-e15380d88f35",
   "metadata": {},
   "source": [
    "```SQL\n",
    "INSERT INTO <table_name> (<column_name>, <column_name>, <column_name>, ...)\n",
    "    VALUES (<value>, <value>, <value>, ...)\n",
    "```"
   ]
  },
  {
   "cell_type": "markdown",
   "id": "3ad6bdf4-e9bd-405f-9555-f4236ac6ec5a",
   "metadata": {},
   "source": [
    "```SQL\n",
    "INSERT INTO <target_table_name> SELECT <col_1>, <col_2> FROM <source_table_name> [ WHERE ... ] \n",
    "```"
   ]
  },
  {
   "cell_type": "markdown",
   "id": "a13e64ca-43f4-49a1-b007-677aea4af104",
   "metadata": {},
   "source": [
    "### Select"
   ]
  },
  {
   "cell_type": "markdown",
   "id": "2b6af0cb-8c48-4714-8325-23e342d036f4",
   "metadata": {},
   "source": [
    "#### Popular Select Functions"
   ]
  },
  {
   "cell_type": "markdown",
   "id": "cc40052e-7809-45a6-837f-9ae935ae40bb",
   "metadata": {},
   "source": [
    "##### Numeric"
   ]
  },
  {
   "cell_type": "markdown",
   "id": "ccffa5eb-6137-44d8-9318-6b3be19fc26c",
   "metadata": {},
   "source": [
    "* __SUM()__: Calculates the sum of a column.\n",
    "\n",
    "* __AVG()__: Computes the average of a column.\n",
    "\n",
    "* __COUNT()__: Counts the number of rows or non-null values in a column.\n",
    "\n",
    "* __MIN()__: Finds the minimum value in a column.\n",
    "\n",
    "* __MAX()__: Finds the maximum value in a column.\n",
    "\n",
    "* __ROUND()__: Rounds a numeric value to a specified number of decimal places.\n",
    "\n",
    "* __CEIL()__: Rounds a numeric value up to the nearest integer.\n",
    "\n",
    "* __FLOOR()__: Rounds a numeric value down to the nearest integer.\n",
    "\n",
    "* __ABS()__: Returns the absolute (positive) value of a number.\n",
    "\n",
    "* __POWER()__: Raises a number to a specified power.\n",
    "\n",
    "* __MOD()__: Returns the remainder of a division operation.\n",
    "\n",
    "* __RAND()__: Generates a random number.\n",
    "\n",
    "* __SQRT()__: Calculates the square root of a number.\n",
    "\n",
    "* __LOG()__: Calculates the natural logarithm of a number.\n",
    "\n",
    "* __EXP()__: Calculates the exponential value of a number."
   ]
  },
  {
   "cell_type": "markdown",
   "id": "872f1c82-d64f-43a2-a441-279ddce70b4a",
   "metadata": {},
   "source": [
    "##### Dates"
   ]
  },
  {
   "cell_type": "markdown",
   "id": "6f60b4a6-0f73-4770-b5c4-8646cb748ca6",
   "metadata": {},
   "source": [
    "* __NOW()__: Returns the current date and time.\n",
    "\n",
    "* __DATE()__: Extracts the date part from a date/time value.\n",
    "\n",
    "* __DAY()__: Returns the day of the month from a date.\n",
    "\n",
    "* __MONTH()__: Returns the month from a date.\n",
    "\n",
    "* __YEAR()__: Returns the year from a date.\n",
    "\n",
    "* __DATEDIFF()__: Calculates the difference between two dates.\n",
    "\n",
    "* __DATE_FORMAT(\\<appropiate_date_value\\>, \\<format\\>)__: Formats a date value based on a specified format string.\n",
    "\n",
    "* __ADDDATE(\\<date_value\\>, INTERVAL \\<value\\> \\<part_of_the_date\\>)__: Adds a specified number of days to a date.\n",
    "\n",
    "* __SUBDATE(\\<date_value\\>, INTERVAL \\<value\\> \\<part_of_the_date\\>)__: Subtracts a specified number of days from a date.\n",
    "\n",
    "* __DAYNAME()__: Returns the name of the day for a given date.\n",
    "\n",
    "* __MONTHNAME()__: Returns the name of the month for a given date.\n",
    "\n",
    "* __WEEK()__: Returns the week number for a given date.\n",
    "\n",
    "* __WEEKDAY()__: Returns the weekday index for a given date.\n",
    "\n",
    "* __TIMESTAMPDIFF(\\<part_of_the_date\\>, \\<date_1\\>, \\<date_2\\>)__: Calculates the difference between two timestamps.\n",
    "\n",
    "* __STR_TO_DATE(\\<string\\>, \\<format\\>)__: Converts a string to a date value based on a specified format."
   ]
  },
  {
   "cell_type": "markdown",
   "id": "686c2921-9681-4095-980a-55358973aa0e",
   "metadata": {},
   "source": [
    "##### Strings"
   ]
  },
  {
   "cell_type": "markdown",
   "id": "d0d72dfe-4119-4ab1-923f-4ab413067f77",
   "metadata": {},
   "source": [
    "* __CONCAT()__: Concatenates two or more strings together.\n",
    "\n",
    "* __LENGTH()__: Returns the length of a string.\n",
    "\n",
    "* __SUBSTRING(\\<string\\>, \\<start_position\\>, \\<end_position\\>)__: Extracts a substring from a string based on a starting position and length.\n",
    "\n",
    "* __UPPER()__: Converts a string to uppercase.\n",
    "\n",
    "* __LOWER()__: Converts a string to lowercase.\n",
    "\n",
    "* __TRIM()__: Removes leading and trailing spaces from a string.\n",
    "\n",
    "* __REPLACE(\\<string\\>, \\<target_string\\>, \\<new_string\\>)__: Replaces all occurrences of a substring within a string.\n",
    "\n",
    "* __CHAR_LENGTH()__: Returns the length of a string in characters.\n",
    "\n",
    "* __LEFT()__: Retrieves a specified number of characters from the beginning of a string.\n",
    "\n",
    "* __RIGHT()__: Retrieves a specified number of characters from the end of a string.\n",
    "\n",
    "* __INSTR(\\<string\\>, \\<substring\\>)__: Returns the position of a substring within a string.\n",
    "\n",
    "* __MID()__: Retrieves a substring from a string starting at a specified position.\n",
    "\n",
    "* __REPEAT()__: Repeats a string a specified number of times.\n",
    "\n",
    "* __FIND_IN_SET(\\<string\\>, \\<string_list\\>)__: Searches for a value within a comma-separated list of values."
   ]
  },
  {
   "cell_type": "markdown",
   "id": "1c5d2475-e5b2-424a-8439-4f2f5dab7c20",
   "metadata": {},
   "source": [
    "## Procedures and Functions"
   ]
  },
  {
   "cell_type": "markdown",
   "id": "d5d66bec-ac58-464e-824c-4b01875ea719",
   "metadata": {},
   "source": [
    "In MySQL, stored procedures and functions serve different purposes and have distinct characteristics. Here are some points to consider when deciding whether to use a procedure or a function:\n",
    "\n",
    "Stored Procedures:\n",
    "\n",
    "* Procedural Logic: Stored procedures are primarily used to encapsulate a set of SQL statements and procedural logic. They are well-suited for implementing complex business logic, performing multiple operations, and controlling flow within the database.\n",
    "\n",
    "* Execution Context: Procedures are executed using CALL statements. They can accept parameters and have local variables, allowing for flexible input and output handling.\n",
    "\n",
    "* Limited Data Return: Procedures can use OUT parameters to return values, but they are generally used to modify data or perform actions rather than returning result sets or values for further use.\n",
    "\n",
    "* Flexibility: Procedures can include conditional statements, loops, and other programming constructs, making them suitable for implementing data manipulation, transactions, and application-specific logic.\n",
    "\n",
    "Stored Functions:\n",
    "\n",
    "* Data Transformation: Functions are designed to transform input values into calculated or derived output values. They are often used in SELECT statements or as part of expressions within queries.\n",
    "\n",
    "* Return Values: Functions explicitly return a single value using the RETURN statement. They can be used to return scalar values, result sets, or even user-defined types.\n",
    "\n",
    "* Determinism: Functions allow you to specify whether they are deterministic or not, enabling query optimization and caching for deterministic functions.\n",
    "\n",
    "* Reusability: Functions can be easily reused within queries or in other functions, providing a modular approach to data transformation.\n",
    "\n",
    "In summary, the main difference between stored procedures and functions lies in their purpose and behavior. Stored procedures are focused on executing procedural logic and performing actions within the database, while functions are designed for data transformation and calculation, returning values that can be used in queries or expressions."
   ]
  },
  {
   "cell_type": "markdown",
   "id": "99d2b525-da58-4ce4-9eba-92d9cfb3d4a0",
   "metadata": {},
   "source": [
    "```SQL\n",
    "DELIMITER $$\n",
    "CREATE PROCEDURE <procedure_name>([IN|OUT] <argument_1> <type>, [...] ... ...)\n",
    "BEGIN\n",
    "\n",
    "< ......\n",
    "COMMANDS\n",
    "........ >\n",
    "\n",
    "END &&\n",
    "DELIMITER ;\n",
    "```\n",
    "\n",
    "```SQL\n",
    "CALL <procedure_name>(<argument_1>, ...)\n",
    "```"
   ]
  },
  {
   "cell_type": "markdown",
   "id": "7f4174fc-7c70-4d81-82b6-9f0578566e81",
   "metadata": {},
   "source": [
    "```SQL\n",
    "\n",
    "/* Returning a table with a function is not possible */\n",
    "\n",
    "DELIMITER $$\n",
    "CREATE FUNCTION <function_name>(<argument_1> <type>, ... ...)\n",
    "RETURNS <type> <characteristic {DETERMINISTIC, NOT DETERMINISTIC, NO SQL, READS SQL DATA, ...}>\n",
    "BEGIN\n",
    "\n",
    "< ......\n",
    "COMMANDS\n",
    "........ >\n",
    "\n",
    "END $$\n",
    "DELIMITER ;\n",
    "```\n",
    "\n",
    "```SQL\n",
    "SELECT FUNCTION(<argument_1>, ...);\n",
    "```"
   ]
  }
 ],
 "metadata": {
  "kernelspec": {
   "display_name": "Python 3 (ipykernel)",
   "language": "python",
   "name": "python3"
  },
  "language_info": {
   "codemirror_mode": {
    "name": "ipython",
    "version": 3
   },
   "file_extension": ".py",
   "mimetype": "text/x-python",
   "name": "python",
   "nbconvert_exporter": "python",
   "pygments_lexer": "ipython3",
   "version": "3.10.10"
  }
 },
 "nbformat": 4,
 "nbformat_minor": 5
}
