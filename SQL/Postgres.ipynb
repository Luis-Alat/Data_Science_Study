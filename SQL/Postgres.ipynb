{
 "cells": [
  {
   "cell_type": "markdown",
   "id": "f353d9ec-d540-41ec-a1d4-4dd710ec2b77",
   "metadata": {},
   "source": [
    "## DDL: Data Definition Language"
   ]
  },
  {
   "cell_type": "markdown",
   "id": "9fe86a33-f13e-4375-9754-b70435c25f14",
   "metadata": {},
   "source": [
    "### Create"
   ]
  },
  {
   "cell_type": "markdown",
   "id": "9243c93f-dfbc-4724-a4e4-f2627c5f85a6",
   "metadata": {},
   "source": [
    "```SQL\n",
    "CREATE DATABASE <database_name>;\n",
    "```"
   ]
  },
  {
   "cell_type": "markdown",
   "id": "72cd7045-e5d2-44e2-ace2-f4dc5a0e4fdf",
   "metadata": {},
   "source": [
    "```SQL\n",
    "CREATE TABLE <table_name> (\n",
    "\n",
    "        <column_name> <data_type> <constraints>,\n",
    "        <column_name> <data_type> <constraints>,\n",
    "        <column_name> <data_type> <constraints>,\n",
    "        <...........> <.........> <...........>\n",
    "    \n",
    ")\n",
    "```"
   ]
  },
  {
   "cell_type": "markdown",
   "id": "db54f803-2de2-4ca4-a775-4e8592ec42bf",
   "metadata": {},
   "source": [
    "### Alter"
   ]
  },
  {
   "cell_type": "markdown",
   "id": "2ab37438-e2ab-47f3-9590-e61bcae8f1d3",
   "metadata": {},
   "source": [
    "#### Alter table"
   ]
  },
  {
   "cell_type": "markdown",
   "id": "06873ea9-b891-445d-9f3f-f73b13444ac8",
   "metadata": {},
   "source": [
    "```SQL\n",
    "ALTER TABLE <old_table_name> RENAME TO <new_table_name>;\n",
    "```"
   ]
  },
  {
   "cell_type": "markdown",
   "id": "f9b0e471-81c9-4412-bd65-df0e99fbbd63",
   "metadata": {},
   "source": [
    "```SQL\n",
    "ALTER TABLE <table_name> ADD COLUMN <new_column_name> <datatype>;\n",
    "```"
   ]
  },
  {
   "cell_type": "markdown",
   "id": "d5f9e25e-44f6-46b8-b46f-97d633b198dc",
   "metadata": {},
   "source": [
    "```SQL\n",
    "ALTER TABLE <table_name> DROP <column_name>;\n",
    "```"
   ]
  },
  {
   "cell_type": "markdown",
   "id": "d04f1c3e-3cd3-4595-8f6d-74dde0f34ac9",
   "metadata": {},
   "source": [
    "#### Alter column"
   ]
  },
  {
   "cell_type": "markdown",
   "id": "1bd088b1-00be-4e4a-9bc3-4f63f51ceab4",
   "metadata": {},
   "source": [
    "```SQL\n",
    "ALTER TABLE <table_name> RENAME COLUMN <old_column_name> TO <new_column_name>;\n",
    "```"
   ]
  },
  {
   "cell_type": "markdown",
   "id": "f744ba3e-607a-4565-b449-613c6e777adb",
   "metadata": {},
   "source": [
    "```SQL\n",
    "ALTER TABLE <table_name> ALTER COLUMN <column_name_to_modify> TYPE <new_datatype>;\n",
    "```"
   ]
  },
  {
   "cell_type": "markdown",
   "id": "4711559d-8ea5-4aaf-a349-256da0187a16",
   "metadata": {},
   "source": [
    "```SQL\n",
    "ALTER TABLE <table_name> ADD CONSTRAINT <constraint_name>\n",
    "    FOREIGN KEY (<column_name>)\n",
    "    REFERENCES <foreign_table_name> (<foreign_column_name>)\n",
    "```"
   ]
  },
  {
   "cell_type": "markdown",
   "id": "b1865af5-9b2e-4c00-a423-cd8e1860bbc1",
   "metadata": {},
   "source": [
    "### Truncate"
   ]
  },
  {
   "cell_type": "markdown",
   "id": "24d4cb31-2e97-4978-9639-ef3b8d357285",
   "metadata": {},
   "source": [
    "```SQL\n",
    "TRUNCATE TABLE <table_Name>;\n",
    "```"
   ]
  },
  {
   "cell_type": "markdown",
   "id": "f24a0dff-0cf2-4255-a0c3-bf656ceaa656",
   "metadata": {},
   "source": [
    "### Drop"
   ]
  },
  {
   "cell_type": "markdown",
   "id": "69b860dd-16f1-4fa9-9288-604c59f7a324",
   "metadata": {},
   "source": [
    "```SQL\n",
    "DROP TABLE <table_name>;\n",
    "```"
   ]
  },
  {
   "cell_type": "markdown",
   "id": "0333e89a-7e58-4109-bf15-ab1aa3aed2bb",
   "metadata": {},
   "source": [
    "```SQL\n",
    "DROP DATABASE <database_name>\n",
    "```"
   ]
  },
  {
   "cell_type": "markdown",
   "id": "a333c52b-3939-402c-9904-dca142b9afef",
   "metadata": {},
   "source": [
    "## Data Manipulation Language (DML)"
   ]
  },
  {
   "cell_type": "markdown",
   "id": "400aeefa-d6b0-4905-9d6a-a194375f6ea7",
   "metadata": {},
   "source": [
    "### Update"
   ]
  },
  {
   "cell_type": "markdown",
   "id": "7ba3263a-fd6f-4e77-98ef-543589b91168",
   "metadata": {},
   "source": [
    "```SQL\n",
    "UPDATE <table_name> SET <colum_name> = <value>, <column_name> = <value>, ... [ WHERE ... ]\n",
    "```"
   ]
  },
  {
   "cell_type": "markdown",
   "id": "dd540a0c-cc3f-43b0-ba1d-034bc3433596",
   "metadata": {},
   "source": [
    "### Delete"
   ]
  },
  {
   "cell_type": "markdown",
   "id": "d47e1baa-a58d-4bb1-b22c-9e98303674a1",
   "metadata": {},
   "source": [
    "```SQL\n",
    "DELETE FROM <table_name> [ WHERE ... ]\n",
    "```"
   ]
  },
  {
   "cell_type": "markdown",
   "id": "9db1a7ae-d82d-4c00-9ba3-a30b1f32688b",
   "metadata": {},
   "source": [
    "### Insert"
   ]
  },
  {
   "cell_type": "markdown",
   "id": "5e6f561a-0394-427f-bcec-feef03b126d8",
   "metadata": {},
   "source": [
    "```SQL\n",
    "INSERT INTO <table_name> (<column_name>, <column_name>, <column_name>, ...)\n",
    "    VALUES (<value>, <value>, <value>, ...)\n",
    "```"
   ]
  },
  {
   "cell_type": "markdown",
   "id": "8776dc57-8f49-4658-b28b-0487569cbcd0",
   "metadata": {},
   "source": [
    "### Select"
   ]
  },
  {
   "cell_type": "markdown",
   "id": "ee1d2829-d8be-4c65-a23b-7162baddfc1c",
   "metadata": {},
   "source": [
    "#### Select into"
   ]
  },
  {
   "cell_type": "markdown",
   "id": "fbf1022e-2de9-4cec-8da8-f6b109189a27",
   "metadata": {},
   "source": [
    "```SQL\n",
    "SELECT <column_name>, <column_name>, ... INTO <target_table> FROM <source_table> [ WHERE ... ];\n",
    "```"
   ]
  },
  {
   "cell_type": "markdown",
   "id": "ab1f86d5-768f-46db-a8f8-f9f8112780dd",
   "metadata": {},
   "source": [
    "#### Popular Select Functions"
   ]
  },
  {
   "cell_type": "markdown",
   "id": "b8b1671f-c144-4c20-9d4e-bfd55a874399",
   "metadata": {},
   "source": [
    "##### Numeric\n",
    "\n",
    "* __SUM()__: Calculates the sum of a column or a set of values.\n",
    "\n",
    "* __AVG()__: Computes the average (mean) of a column or a set of values.\n",
    "\n",
    "* __COUNT()__: Returns the number of rows or non-null values in a column or a set of values.\n",
    "\n",
    "* __MAX()__: Retrieves the maximum value from a column or a set of values.\n",
    "\n",
    "* __MIN()__: Retrieves the minimum value from a column or a set of values.\n",
    "\n",
    "* __ROUND()__: Rounds a numeric value to a specified number of decimal places.\n",
    "\n",
    "* __ABS()__: Returns the absolute value of a numeric value.\n",
    "\n",
    "* __CEIL()__: Rounds a numeric value up to the nearest integer.\n",
    "\n",
    "* __FLOOR()__: Rounds a numeric value down to the nearest integer.\n",
    "\n",
    "* __MOD()__: Computes the remainder of a division operation between two numbers."
   ]
  },
  {
   "cell_type": "markdown",
   "id": "ead71682-3f9a-470b-8b51-1fe3b4a48571",
   "metadata": {},
   "source": [
    "##### Dates\n",
    "\n",
    "* __NOW()__: Retrieves the current date and time.\n",
    "\n",
    "* __DATE_PART('\\<part_of_the_date\\>', \\<date_value\\>)__: Extracts a specific part (year, month, day, etc.) from a date or timestamp.\n",
    "\n",
    "* __DATE_TRUNC('\\<part_of_the_date\\>', \\<date_value\\>)__: Truncates a date or timestamp to a specified precision (year, month, day, etc.).\n",
    "\n",
    "* __AGE()__: Calculates the difference between two dates.\n",
    "\n",
    "* __TO_CHAR(\\<value\\>, \\<output_format\\>)__: Converts a timestamp, an interval, an integer, a double precision, or a numeric value to a string.\n",
    "\n",
    "* __TO_DATE(\\<string\\>, <\\input_format\\>)__: Converts a string into a timestamp with a specific format\n",
    "\n",
    "* __\\<target_date\\> + '\\<amount\\> \\<period_of_time\\>'::INTERVAL__: Adds an interval to a date or timestamp. Equivalent of DATE_ADD().\n",
    "\n",
    "* __EXTRACT(\\<part_of_the_date\\> FROM \\<date_value\\>)__: Extracts a specific part (year, month, day, etc.) from a date or timestamp.\n",
    "\n",
    "* __INTERVAL '\\<interval_expression\\>'__: Constructs an interval based on a given duration.\n",
    "\n",
    "* __TO_TIMESTAMP(\\<string_value\\>,\\<output_format\\>)__: Converts a string to a timestamp with a specific format."
   ]
  },
  {
   "cell_type": "markdown",
   "id": "6d9c5d08-99f3-4c0b-b999-5a041c118121",
   "metadata": {},
   "source": [
    "##### Strings"
   ]
  },
  {
   "cell_type": "markdown",
   "id": "8396e802-183a-4dda-82c8-68caef7c79ed",
   "metadata": {},
   "source": [
    "* __CONCAT()__: Concatenates multiple strings into a single string.\n",
    "\n",
    "* __LENGTH()__: Returns the length (number of characters) of a string.\n",
    "\n",
    "* __UPPER()__: Converts a string to uppercase.\n",
    "\n",
    "* __LOWER()__: Converts a string to lowercase.\n",
    "\n",
    "* __SUBSTRING(\\<string\\>, \\<start_position\\>, \\<end_position\\>)__: Extracts a substring from a string based on a specified position and length.\n",
    "\n",
    "* __TRIM()__: Removes leading and trailing spaces from a string.\n",
    "\n",
    "* __REPLACE(\\<string\\>, \\<target_string\\>, \\<new_string\\>)__: Replaces occurrences of a substring within a string with another substring.\n",
    "\n",
    "* __POSITION(\\<sub_string\\> IN \\<string\\>)__: Finds the position of a substring within a string.\n",
    "\n",
    "* __SPLIT_PART(\\<string\\>, \\<delimiter\\>, \\<position_to_take\\>)__: Splits a string into parts based on a delimiter and retrieves a specific part.\n",
    "\n",
    "* __LIKE/ILIKE__: Performs pattern matching using wildcard characters (% and _) in a string. ILIKE is case insensitive\n",
    "\n",
    "* __LEFT()__: Extract N characters starting from left to right of a string\n",
    "\n",
    "* __RIGHT()__: Extract N characters starting from right to left of a string"
   ]
  },
  {
   "cell_type": "markdown",
   "id": "6c550680-d7f9-4c3a-882b-81dfd291c449",
   "metadata": {},
   "source": [
    "## Procedures and Functions"
   ]
  },
  {
   "cell_type": "markdown",
   "id": "6fffac3b-6c1e-4170-9dc1-633111b371f5",
   "metadata": {},
   "source": [
    "```SQL\n",
    "CREATE [OR REPLACE] PROCEDURE <name_of_procedure>(<argument> <type>, <argument> <type>, ... ...)\n",
    "LANGUAGE <language_[SQL, plpgsql, etc]> AS $$\n",
    "\n",
    "< ......\n",
    "COMMANDS\n",
    "........ >\n",
    "\n",
    "$$\n",
    "```\n",
    "\n",
    "```SQL\n",
    "CALL <procedure_name>(<arguments>, ...)\n",
    "```"
   ]
  },
  {
   "cell_type": "markdown",
   "id": "cbbd06af-6046-484b-8096-837e261d2606",
   "metadata": {},
   "source": [
    "```SQL\n",
    "CREATE [OR REPLACE] FUNCTION <name_of_function>(<argument> <type>, <argument> <type>, ... ...)\n",
    "RETURNS [<type>, TABLE (<column_name> <type>, ... ...)]\n",
    "LANGUAGE <language_[SQL, plpgsql, etc]> AS $$\n",
    "\n",
    "< ......\n",
    "COMMANDS\n",
    "........ >\n",
    "\n",
    "$$\n",
    "```\n",
    "\n",
    "```SQL\n",
    "SELECT PROCEDURE(\\<argument\\>, \\<argument\\>, ...) || \n",
    "SELECT <col_name>, <col_name> FROM <name_of_function>\n",
    "```"
   ]
  },
  {
   "cell_type": "code",
   "execution_count": null,
   "id": "a4180f56-5f4b-43be-ae9a-0870575dd65a",
   "metadata": {},
   "outputs": [],
   "source": []
  }
 ],
 "metadata": {
  "kernelspec": {
   "display_name": "Python 3 (ipykernel)",
   "language": "python",
   "name": "python3"
  },
  "language_info": {
   "codemirror_mode": {
    "name": "ipython",
    "version": 3
   },
   "file_extension": ".py",
   "mimetype": "text/x-python",
   "name": "python",
   "nbconvert_exporter": "python",
   "pygments_lexer": "ipython3",
   "version": "3.10.10"
  }
 },
 "nbformat": 4,
 "nbformat_minor": 5
}
